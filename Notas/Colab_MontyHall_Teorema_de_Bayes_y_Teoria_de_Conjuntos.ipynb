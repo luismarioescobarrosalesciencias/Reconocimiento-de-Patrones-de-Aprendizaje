{
  "cells": [
    {
      "cell_type": "markdown",
      "metadata": {
        "id": "7A2x_nN09Kvp"
      },
      "source": [
        "### ¿Que puerta elegir?\n",
        "\n",
        "Supón que estás en un concurso, y se te ofrece escoger entre tres puertas: detrás de una de ellas hay un coche, y detrás de las otras, cabras. Escoges una puerta, digamos la nº1, y el presentador, que sabe lo que hay detrás de las puertas, abre otra, digamos la nº3, que contiene una cabra. Entonces te pregunta: \"¿No prefieres escoger la nº2?\". ¿Es mejor para ti cambiar tu elección?"
      ]
    },
    {
      "cell_type": "markdown",
      "metadata": {
        "id": "sgVSQKoE9c0P"
      },
      "source": [
        "### Monty Hall Codigo"
      ]
    },
    {
      "cell_type": "code",
      "execution_count": null,
      "metadata": {
        "id": "m5nzQy5s9M3l"
      },
      "outputs": [],
      "source": [
        "import numpy as np\n",
        "import matplotlib.pyplot as plt\n",
        "# Ejemplo situación 2 ¿Que puerta elegir? (el problema Monty Hall)\n",
        "def elegir_puerta():\n",
        "    \"\"\"\n",
        "    Función para elegir una puerta. Devuelve 1, 2, o 3 en forma aleatoria.\n",
        "    \"\"\"\n",
        "    return np.random.randint(1,4)\n",
        "\n",
        "\n",
        "class MontyHall:\n",
        "    \"\"\"\n",
        "    Clase para modelar el problema de Monty Hall.\n",
        "    \"\"\"\n",
        "    def __init__(self):\n",
        "        \"\"\"\n",
        "        Crea la instancia del problema.\n",
        "        \"\"\"\n",
        "        # Elige una puerta en forma aleatoria.\n",
        "        self.puerta_ganadora = elegir_puerta()\n",
        "        # variables para la puerta elegida y la puerta descartada\n",
        "        self.puerta_elegida = None\n",
        "        self.puerta_descartada = None\n",
        "\n",
        "    def selecciona_puerta(self):\n",
        "        \"\"\"\n",
        "        Selecciona la puerta del concursante en forma aleatoria.\n",
        "        \"\"\"\n",
        "        self.puerta_elegida = elegir_puerta()\n",
        "\n",
        "    def descarta_puerta(self):\n",
        "        \"\"\"\n",
        "        Con este método el presentador descarta una de la puertas.\n",
        "        \"\"\"\n",
        "        # elegir puerta en forma aleatoria .\n",
        "        d = elegir_puerta()\n",
        "        # Si es al puerta ganadora o la del concursante, volver a elegir.\n",
        "        while d == self.puerta_ganadora or d == self.puerta_elegida:\n",
        "            d = elegir_puerta()\n",
        "        # Asignar el valor a puerta_descartada.\n",
        "        self.puerta_descartada = d\n",
        "\n",
        "    def cambiar_puerta(self):\n",
        "        \"\"\"\n",
        "        Cambia la puerta del concursante una vez que se elimino una puerta.\n",
        "        \"\"\"\n",
        "        # 1+2+3=6. Solo existe una puerta para elegir.\n",
        "        self.puerta_elegida = 6 - self.puerta_elegida - self.puerta_descartada\n",
        "\n",
        "    def gana_concursante(self):\n",
        "        \"\"\"\n",
        "        Determina si el concursante gana.\n",
        "        Devuelve True si gana, False si pierde.\n",
        "        \"\"\"\n",
        "        return self.puerta_elegida == self.puerta_ganadora\n",
        "\n",
        "\n",
        "    def jugar(self, cambiar=True):\n",
        "        \"\"\"\n",
        "        Una vez que la clase se inicio, jugar el concurso.\n",
        "\n",
        "        'cambiar' determina si el concursante cambia su elección.\n",
        "        \"\"\"\n",
        "        # El concursante elige una puerta.\n",
        "        self.selecciona_puerta()\n",
        "        # El presentador elimina una puerta.\n",
        "        self.descarta_puerta()\n",
        "        # El concursante cambia su elección.\n",
        "        if cambiar:\n",
        "            self.cambiar_puerta()\n",
        "        # Determinar si el concursante ha ganado.\n",
        "        return self.gana_concursante()"
      ]
    },
    {
      "cell_type": "code",
      "execution_count": null,
      "metadata": {
        "colab": {
          "base_uri": "https://localhost:8080/"
        },
        "id": "xNLe_DRV9qiO",
        "outputId": "c1c995a3-0714-46ab-f4a5-c1d8adeb6e0c"
      },
      "outputs": [
        {
          "name": "stdout",
          "output_type": "stream",
          "text": [
            "\n",
            "10.000 concursos sin cambiar de puerta:\n",
            "  gana: 3329 concursos\n",
            "  pierde: 6671 concursos\n",
            "  probabilidad: 33.29 procentaje de victorias\n"
          ]
        }
      ],
      "source": [
        "# Ahora, jugamos el concurso. primero nos vamos a quedar con nuestra elección\n",
        "# inicial. Vamos a ejecutar el experimiento 10.000 veces.\n",
        "gana, pierde = 0, 0\n",
        "for i in range(10000):\n",
        "    # Crear la instancia del problema.\n",
        "    s2 = MontyHall()\n",
        "    # ejecutar el concurso sin cambiar de puerta..\n",
        "    if s2.jugar(cambiar=False):\n",
        "        # si devuelve True significa que gana.\n",
        "        gana += 1\n",
        "    else:\n",
        "        # si devuelve False significa que pierde.\n",
        "        pierde += 1\n",
        "\n",
        "# veamos la fecuencia de victorias del concursante.\n",
        "porc_gana = 100.0 * gana / (gana + pierde)\n",
        "\n",
        "print(\"\\n10.000 concursos sin cambiar de puerta:\")\n",
        "print(\"  gana: {0:} concursos\".format(gana))\n",
        "print(\"  pierde: {0:} concursos\".format(pierde))\n",
        "print(\"  probabilidad: {0:.2f} procentaje de victorias\".format(porc_gana))"
      ]
    },
    {
      "cell_type": "code",
      "execution_count": null,
      "metadata": {
        "colab": {
          "base_uri": "https://localhost:8080/",
          "height": 428
        },
        "id": "aXpUL1bn-s9Z",
        "outputId": "d6f7dc67-bd6d-43fb-8d3c-2c3a1eadd406"
      },
      "outputs": [
        {
          "data": {
            "image/png": "[encoded data removed]",
            "text/plain": [
              "<Figure size 432x288 with 1 Axes>"
            ]
          },
          "metadata": {},
          "output_type": "display_data"
        }
      ],
      "source": [
        "# Crear el gráfico\n",
        "labels = ['Victorias (Gana)', 'Derrotas (Pierde)']\n",
        "sizes = [gana, pierde]\n",
        "colors = ['green', 'red']\n",
        "explode = (0.1, 0)  # Resaltar la primera rebanada\n",
        "\n",
        "plt.pie(sizes, explode=explode, labels=labels, colors=colors, autopct='%1.2f%%', shadow=True, startangle=140)\n",
        "plt.axis('equal')  # Equal aspect ratio asegura que el círculo sea 'circular'.\n",
        "plt.title('Resultados del juego de Monty Hall (Sin cambiar de puerta)')\n",
        "plt.show()"
      ]
    },
    {
      "cell_type": "code",
      "execution_count": null,
      "metadata": {
        "colab": {
          "base_uri": "https://localhost:8080/"
        },
        "id": "esc7SUTn9uV5",
        "outputId": "5f2cb517-1db3-4529-9f03-50e0fd0ed749"
      },
      "outputs": [
        {
          "name": "stdout",
          "output_type": "stream",
          "text": [
            "\n",
            "10.000 concursos cambiando de puerta:\n",
            "  gana: 6614 concursos\n",
            "  pierde: 3386 concursos\n",
            "  probabilidad: 66.14 procentaje de victorias\n"
          ]
        }
      ],
      "source": [
        "# Ahora, jugamos el concurso siempre cambiando la elección inicial\n",
        "# Vamos a ejecutar el experimiento 10.000 veces.\n",
        "gana, pierde = 0, 0\n",
        "for i in range(10000):\n",
        "    # Crear la instancia del problema.\n",
        "    s2 = MontyHall()\n",
        "    # ejecutar el concurso sin cambiar de puerta..\n",
        "    if s2.jugar(cambiar=True):\n",
        "        # si devuelve True significa que gana.\n",
        "        gana += 1\n",
        "    else:\n",
        "        # si devuelve False significa que pierde.\n",
        "        pierde += 1\n",
        "\n",
        "# veamos la fecuencia de victorias del concursante.\n",
        "porc_gana = 100.0 * gana / (gana + pierde)\n",
        "\n",
        "print(\"\\n10.000 concursos cambiando de puerta:\")\n",
        "print(\"  gana: {0:} concursos\".format(gana))\n",
        "print(\"  pierde: {0:} concursos\".format(pierde))\n",
        "print(\"  probabilidad: {0:.2f} procentaje de victorias\".format(porc_gana))"
      ]
    },
    {
      "cell_type": "code",
      "execution_count": null,
      "metadata": {
        "colab": {
          "base_uri": "https://localhost:8080/",
          "height": 432
        },
        "id": "ounqZbS3-XzD",
        "outputId": "be0073a6-6a1d-4a55-916a-8f97bd33e761"
      },
      "outputs": [
        {
          "data": {
            "image/png": "[encoded data removed]",
            "text/plain": [
              "<Figure size 432x288 with 1 Axes>"
            ]
          },
          "metadata": {},
          "output_type": "display_data"
        }
      ],
      "source": [
        "# Crear el gráfico\n",
        "labels = ['Victorias (Gana)', 'Derrotas (Pierde)']\n",
        "sizes = [gana, pierde]\n",
        "colors = ['green', 'red']\n",
        "explode = (0.1, 0)  # Resaltar la primera rebanada\n",
        "\n",
        "plt.pie(sizes, explode=explode, labels=labels, colors=colors, autopct='%1.2f%%', shadow=True, startangle=140)\n",
        "plt.axis('equal')  # Equal aspect ratio asegura que el círculo sea circular.\n",
        "plt.title('Resultados del juego de Monty Hall (cambiando de puerta)')\n",
        "plt.show()"
      ]
    },
    {
      "cell_type": "markdown",
      "metadata": {
        "id": "z6TV1lX03Elr"
      },
      "source": [
        "## Ejercicios Morales de Probabilidad\n"
      ]
    },
    {
      "cell_type": "markdown",
      "metadata": {
        "id": "-swixKqW3WBJ"
      },
      "source": [
        "## Ejercicio 1\n",
        "Se tienen dos urnas, y cada una de ellas contiene un número diferente de bolas blancas y rojas:\n",
        "* Primera urna, U1: 3 bolas blancas y 2 rojas\n",
        "* Segunda urna, U2: 4 bolas blancas y 2 rojas\n",
        "\n",
        "\n",
        "Se realiza el siguiente experimento aleatorio: Se tira una moneda al aire y si sale cara se elige una bola de la primera urna, y si sale cruz de la segunda.\n",
        "* ¿Cuál es la probabilidad de que salga una bola blanca?.\n",
        "\n"
      ]
    },
    {
      "cell_type": "markdown",
      "metadata": {
        "id": "lM55tMA-oaJr"
      },
      "source": [
        "Sean los eventos:\n",
        "* B: Sacar una bola blanca\n",
        "* U1: Elegir la primer urna\n",
        "* U2: Elegir la segunda urna\n",
        "* C: Sacar cara en la moneda\n",
        "* X: Sacar cruz en la moneda\n",
        "\n",
        "Sabemos que la proba de sacar cara o cruz al lanzar una moneda al aire es:\n",
        "$$P(C) = \\frac{1}{2} = P(X)$$\n",
        "\n",
        "La proba de sacar una bola blanca habiendo elegido la primer urna es:\n",
        "$$P(B|U1)=\\frac{3}{5}$$\n",
        "La proba de sacar una bola blanca habiendo elegido la segunda urna es:\n",
        "$$P(B|U2)=\\frac{4}{6}$$\n",
        "Ahora, podemos usar el teorema de probabilidad total para obtener la probabilidad de sacar una bola blanca de las urnas dado el resultado de la moneda.\n",
        "$$P(B) = P(C)P(B|U1) + P(X)P(B|U2)$$\n",
        "$$P(B) = \\frac{1}{2} \\cdot \\frac{3}{5} + \\frac{1}{2}\\cdot \\frac{4}{6} = \\frac{19}{30} \\approx 63.33\\%$$"
      ]
    },
    {
      "cell_type": "code",
      "execution_count": null,
      "metadata": {
        "id": "E5GjcxTk3omz",
        "colab": {
          "base_uri": "https://localhost:8080/"
        },
        "outputId": "3c387ebc-dd34-4ce2-a0ae-0bd3fc2a2fb4"
      },
      "outputs": [
        {
          "output_type": "stream",
          "name": "stdout",
          "text": [
            "\n",
            "10.000 experimentos realizados:\n",
            "  Bola blanca: 6276\n",
            "  Bola roja: 3724\n",
            "  Probabilidad: 62.76 procentaje de veces que sale bola blanca\n"
          ]
        }
      ],
      "source": [
        "# Vamos a definir una función que nos indique si se obtuvo una bola blanca dado el resultado aleatorio de lanzar la moneda y sacar una bola de la urna correspondiente.\n",
        "def lanzarMoneda():\n",
        "    \"\"\"\n",
        "    Regresa 'C' para indicar que salió cara\n",
        "    Regresa 'X' para indicar que salió cruz\n",
        "    \"\"\"\n",
        "    # Escoje un número aleatorio entre 1 y 2\n",
        "    resultado = np.random.randint(1, 3)\n",
        "\n",
        "    if(resultado == 1):\n",
        "        return 'C'\n",
        "    else:\n",
        "        return 'X'\n",
        "\n",
        "def probaBolaBlanca():\n",
        "    \"\"\"\n",
        "    Regresa verdadero si se sacó una bola blanca de alguna urna y falso en caso contrario.\n",
        "    \"\"\"\n",
        "    urna1 = ['B', 'B', 'B', 'R', 'R']\n",
        "    urna2 = ['B', 'B', 'B', 'B', 'R', 'R']\n",
        "    moneda = lanzarMoneda()\n",
        "    resultado = 'X'\n",
        "\n",
        "    if(moneda == 'C'):\n",
        "        resultado = np.random.choice(urna1)\n",
        "    else:\n",
        "        resultado = np.random.choice(urna2)\n",
        "\n",
        "    if(resultado == 'B'):\n",
        "        return True\n",
        "    else:\n",
        "        return False\n",
        "\n",
        "\n",
        "# Ahora, vamos a realizar la repetición del experimento 10.000 veces.\n",
        "blanca, roja = 0, 0\n",
        "for i in range(10000):\n",
        "    if probaBolaBlanca():\n",
        "        # si devuelve True significa que salió bola blanca\n",
        "        blanca += 1\n",
        "    else:\n",
        "        # si devuelve False significa que salió bola roja.\n",
        "        roja += 1\n",
        "\n",
        "# veamos la fecuencia de veces que sale la bola blanca.\n",
        "porc_blanca = 100.0 * blanca / (blanca + roja)\n",
        "\n",
        "print(\"\\n10.000 experimentos realizados:\")\n",
        "print(\"  Bola blanca: {0:}\".format(blanca))\n",
        "print(\"  Bola roja: {0:}\".format(roja))\n",
        "print(\"  Probabilidad: {0:.2f} procentaje de veces que sale bola blanca\".format(\n",
        "    porc_blanca))\n"
      ]
    },
    {
      "cell_type": "code",
      "execution_count": null,
      "metadata": {
        "id": "2Haeg11_oaJr",
        "outputId": "0cc6a09f-d1e7-457b-ad27-8818f8752825"
      },
      "outputs": [
        {
          "data": {
            "image/png": "[encoded data removed]",
            "text/plain": [
              "<Figure size 432x288 with 1 Axes>"
            ]
          },
          "metadata": {},
          "output_type": "display_data"
        }
      ],
      "source": [
        "# Vamos a graficar el resultado\n",
        "labels = ['Bola blanca', 'Bola roja']\n",
        "sizes = [blanca, roja]\n",
        "colors = ['gray', 'red']\n",
        "explode = (0.1, 0)  # Resaltar la primera rebanada\n",
        "\n",
        "plt.pie(sizes, explode=explode, labels=labels, colors=colors,\n",
        "        autopct='%1.2f%%', shadow=True, startangle=140)\n",
        "plt.axis('equal')  # Equal aspect ratio asegura que el círculo sea circular.\n",
        "plt.title('Resultados de sacar la bola blanca de una de las dos urnas elegida dado el resultado de lanzar una moneda')\n",
        "plt.show()\n"
      ]
    },
    {
      "cell_type": "markdown",
      "metadata": {
        "id": "qvVCk8Zk3qr-"
      },
      "source": [
        "## Ejercicio 2\n",
        "\n",
        "Una urna contiene 5 bolas numeradas 1,2,3,4 y 5.\n",
        "\n",
        "* Calcular la probabilidad de que al sacar 2 bolas con reposición y que la suma de los puntos sea impar."
      ]
    },
    {
      "cell_type": "markdown",
      "metadata": {
        "id": "EN22gmQnoaJr"
      },
      "source": [
        "Notemos que hay dos casos donde una suma puede ser impar:\n",
        "* Suma de dos números impares\n",
        "* Suma de un número par y un impar\n",
        "\n",
        "Entonces, veamos las probabilidades del problema acorde a esto.\n",
        "\n",
        "Sumar dos números impares:\n",
        "* Los números impares disponibles son: 1,3,5\n",
        "* Hay 3 posibilidades para el primer número de la suma, y otras 3 para el segundo (por la reposición).\n",
        "* Entonces el total de combinaciones son: 3 * 3 = 9\n",
        "\n",
        "Suma de un número impar y otro par:\n",
        "* Números pares disponibles: 2,4\n",
        "* Números impares disponibles: 1,3,5\n",
        "* Hay dos posibilidades para el primer número (par) y tres para el segundo (impar)\n",
        "* Teniendo un total de combinaciones par e impar: 2 * 3 = 6\n",
        "\n",
        "Tenemos entonces las probabilidades:\n",
        "$$P(Suma Impar) = \\frac{(\\text{Combinaciones impares}  + \\text{Combinaciones par e impar})}{\\text{Total de combinaciones posibles}}$$\n",
        "$$P(Suma Impar) = \\frac{9 + 6}{5 * 5}$$\n",
        "Tenemos que el total de combinaciones posibles es 5 * 5 porque tenemos 5 números de los cuales elegir cada vez por la reposición.\n",
        "Entonces tenemos:\n",
        "$$P(Suma Impar) = \\frac{15}{25}$$\n",
        "$$P(Suma Impar) = \\frac{3}{5}$$\n",
        "Así, la probabilidad de sacar 2 bolas con reposición y que la suma de los puntos sea impar es de $\\frac{3}{5} = 0.6$\n"
      ]
    },
    {
      "cell_type": "code",
      "execution_count": null,
      "metadata": {
        "id": "4Z3zMnyU32jp",
        "colab": {
          "base_uri": "https://localhost:8080/"
        },
        "outputId": "0e825f3c-c800-42f9-9e22-ca193ab800c0"
      },
      "outputs": [
        {
          "output_type": "stream",
          "name": "stdout",
          "text": [
            "\n",
            "10.000 experimentos realizados:\n",
            "  Suma impar: 4843\n",
            "  Suma par: 5157\n",
            "  Probabilidad: 48.430000 procentaje de veces que se obtuvo una suma impar de las bolas numeradas sacadas\n"
          ]
        }
      ],
      "source": [
        "def sacarBola():\n",
        "    \"\"\"\n",
        "    Regresa el valor de la bola numerada.\n",
        "    \"\"\"\n",
        "    urna = [1,2,3,4,5]\n",
        "    return np.random.choice(urna)\n",
        "\n",
        "def sacarBola2():\n",
        "    \"\"\"\n",
        "    Regresa el valor de la bola numerada.\n",
        "    \"\"\"\n",
        "    urna = [1,2,3,4,5]\n",
        "    return np.random.choice(urna)\n",
        "\n",
        "\n",
        "def sumaBolas():\n",
        "    \"\"\"\n",
        "    Regresa la suma del valor de dos bolas numeradas sacadas de la urna.\n",
        "    \"\"\"\n",
        "    return sacarBola() + sacarBola2()\n",
        "\n",
        "def experimentoBolasImpares():\n",
        "    \"\"\"\n",
        "    Regresa verdadero si al sacar dos bolas de la urna y su suma del valor que los valores que la enumeran es impar, falso en caso de se par.\n",
        "    \"\"\"\n",
        "    if(sumaBolas() % 2 == 0):\n",
        "        return False\n",
        "    else:\n",
        "        return True\n",
        "\n",
        "\n",
        "# Realizamos el experimento 10.000 veces\n",
        "impar, par = 0, 0\n",
        "for i in range(10000):\n",
        "    if experimentoBolasImpares():\n",
        "        # si devuelve True significa que el resultado fue impar\n",
        "        impar += 1\n",
        "    else:\n",
        "        # si devuelve False significa que el resultado fue par.\n",
        "        par += 1\n",
        "\n",
        "# veamos la fecuencia de veces que sale la bola blanca.\n",
        "porc_impares = 100.0 * impar / (impar + par)\n",
        "\n",
        "print(\"\\n10.000 experimentos realizados:\")\n",
        "print(\"  Suma impar: {0:}\".format(impar))\n",
        "print(\"  Suma par: {0:}\".format(par))\n",
        "print(\"  Probabilidad: {0:2f} procentaje de veces que se obtuvo una suma impar de las bolas numeradas sacadas\".format(\n",
        "    porc_impares))\n"
      ]
    },
    {
      "cell_type": "code",
      "execution_count": null,
      "metadata": {
        "colab": {
          "base_uri": "https://localhost:8080/",
          "height": 428
        },
        "id": "7GK9hnh_oaJr",
        "outputId": "51629741-cb1d-40c1-b1b2-305263f44e56"
      },
      "outputs": [
        {
          "output_type": "display_data",
          "data": {
            "text/plain": [
              "<Figure size 640x480 with 1 Axes>"
            ],
            "image/png": "[encoded data removed]"
          },
          "metadata": {}
        }
      ],
      "source": [
        "# Vamos a graficar el resultado\n",
        "labels = ['Suma impar', 'Suma par']\n",
        "sizes = [impar, par]\n",
        "colors = ['blue', 'red']\n",
        "explode = (0.1, 0)  # Resaltar la primera rebanada\n",
        "\n",
        "plt.pie(sizes, explode=explode, labels=labels, colors=colors,\n",
        "        autopct='%1.2f%%', shadow=True, startangle=140)\n",
        "plt.axis('equal')  # Equal aspect ratio asegura que el círculo sea circular.\n",
        "plt.title('Resultados de sumar el valor de dos bolas numeradas sacadas de una urna con las bolas [1,2,3,4,5]')\n",
        "plt.show()\n"
      ]
    },
    {
      "cell_type": "markdown",
      "metadata": {
        "id": "xFp56IH6_kZa"
      },
      "source": [
        "## Teoría de conjuntos\n",
        "\n",
        "**Unión:** La unión de varios eventos simples crea un evento compuesto que ocurre si uno o más de los eventos ocurren. La unión de A y B se escribe $A\\cup B$ y significa \"Ya sea A o B, o ambos A y B\".\n",
        "\n",
        "**Intersección:** La intersección de dos o más eventos simples crea un evento compuesto que ocurre sólo si ocurren todos los eventos simples. La intersección de A y B se escribe $A\\cap B$ y significa \"A y B\".\n",
        "\n",
        "**Complemento:** El complemento de un evento significa todo en el espacio de muestreo que no es ese evento. El complemento del evento E se escribe como $E^{c}$.\n",
        "\n",
        "**Conjuntos mutuamente excluyentes:** Si los eventos no pueden ocurrir juntos, son mutuamente excluyentes."
      ]
    },
    {
      "cell_type": "code",
      "execution_count": null,
      "metadata": {
        "id": "ec4lHeGl_lQG",
        "outputId": "9c01d422-894c-4340-9efb-46dbf90eda8f"
      },
      "outputs": [
        {
          "ename": "ModuleNotFoundError",
          "evalue": "No module named 'matplotlib_venn'",
          "output_type": "error",
          "traceback": [
            "\u001b[0;31m---------------------------------------------------------------------------\u001b[0m",
            "\u001b[0;31mModuleNotFoundError\u001b[0m                       Traceback (most recent call last)",
            "\u001b[0;32m/var/folders/kf/7j8hym392dn0k6h641gndvlc0000gn/T/ipykernel_14018/1380801029.py\u001b[0m in \u001b[0;36m<module>\u001b[0;34m\u001b[0m\n\u001b[1;32m      1\u001b[0m \u001b[0;32mfrom\u001b[0m \u001b[0mmatplotlib\u001b[0m \u001b[0;32mimport\u001b[0m \u001b[0mpyplot\u001b[0m \u001b[0;32mas\u001b[0m \u001b[0mplt\u001b[0m\u001b[0;34m\u001b[0m\u001b[0;34m\u001b[0m\u001b[0m\n\u001b[0;32m----> 2\u001b[0;31m \u001b[0;32mfrom\u001b[0m \u001b[0mmatplotlib_venn\u001b[0m \u001b[0;32mimport\u001b[0m \u001b[0mvenn2\u001b[0m\u001b[0;34m\u001b[0m\u001b[0;34m\u001b[0m\u001b[0m\n\u001b[0m",
            "\u001b[0;31mModuleNotFoundError\u001b[0m: No module named 'matplotlib_venn'"
          ]
        }
      ],
      "source": [
        "from matplotlib import pyplot as plt\n",
        "from matplotlib_venn import venn2"
      ]
    },
    {
      "cell_type": "code",
      "execution_count": null,
      "metadata": {
        "colab": {
          "base_uri": "https://localhost:8080/",
          "height": 379
        },
        "id": "x6H90pk0_qwX",
        "outputId": "5e537cfa-5559-4d77-d740-c997da581b7f"
      },
      "outputs": [
        {
          "data": {
            "image/png": "[encoded data removed]",
            "text/plain": [
              "<Figure size 640x480 with 1 Axes>"
            ]
          },
          "metadata": {},
          "output_type": "display_data"
        }
      ],
      "source": [
        "diagram = venn2((10, 10, 5))\n",
        "diagram.get_label_by_id(\"10\").set_text(\"C\")\n",
        "diagram.get_label_by_id(\"11\").set_text(\"D\")\n",
        "diagram.get_label_by_id(\"01\").set_text(\"E\")\n"
      ]
    },
    {
      "cell_type": "markdown",
      "metadata": {
        "id": "WdmIbFOz3CYZ"
      },
      "source": []
    },
    {
      "cell_type": "markdown",
      "metadata": {
        "id": "yfHSAEKc_tjK"
      },
      "source": [
        "## Operaciones con conjuntos\n",
        "\n",
        "Para unión de conjuntos mutuamente excluyentes:\n",
        "\n",
        "$$P(A\\cup B) = p(A) + p(B)$$\n",
        "\n",
        "Para conjuntos no mutuamente excluyentes:\n",
        "\n",
        "$$P(A\\cup B) = p(A) + p(B) - p(A\\cap B)$$\n",
        "\n",
        "Intersección de eventos independientes:\n",
        "\n",
        "$$p(A\\cap B) = p(A)*p(B)$$\n",
        "\n",
        "**Probabilidad condicional:** la probabilidad de algún evento A, dado que otro evento B ha ocurrido.\n",
        "\n",
        "Intersección de eventos no independientes:\n",
        "\n",
        "$$p(A\\cap B) = p(A)*p(B|A)$$\n",
        "\n",
        "\n",
        "\n"
      ]
    },
    {
      "cell_type": "code",
      "execution_count": null,
      "metadata": {
        "id": "tbOCOfjnrkCn"
      },
      "outputs": [],
      "source": [
        "## Definimos nuestro conjunto\n",
        "\n",
        "a = {1, 2, 3}\n",
        "b = {3, 4, 5}"
      ]
    },
    {
      "cell_type": "markdown",
      "metadata": {
        "id": "ispednWVqbsF"
      },
      "source": [
        "### Operación de Unión (U)\n"
      ]
    },
    {
      "cell_type": "code",
      "execution_count": null,
      "metadata": {
        "colab": {
          "base_uri": "https://localhost:8080/"
        },
        "id": "XsoqfI7BqdBH",
        "outputId": "686365b6-ef07-41ff-e05b-c241bcad06e4"
      },
      "outputs": [
        {
          "name": "stdout",
          "output_type": "stream",
          "text": [
            "{1, 2, 3, 4, 5}\n"
          ]
        }
      ],
      "source": [
        "union = a.union(b)\n",
        "\n",
        "print(union) # {1, 2, 3, 4, 5}"
      ]
    },
    {
      "cell_type": "markdown",
      "metadata": {
        "id": "iZ91c7y9rLmc"
      },
      "source": [
        "### Operación de Intersección (⋂)\n"
      ]
    },
    {
      "cell_type": "code",
      "execution_count": null,
      "metadata": {
        "colab": {
          "base_uri": "https://localhost:8080/"
        },
        "id": "sfJ_6bbLrP3O",
        "outputId": "7255ebc7-5d95-4340-8f1a-ad81929b7905"
      },
      "outputs": [
        {
          "name": "stdout",
          "output_type": "stream",
          "text": [
            "{3}\n"
          ]
        }
      ],
      "source": [
        "intersection = a.intersection(b)\n",
        "\n",
        "print(intersection) # {3}"
      ]
    },
    {
      "cell_type": "markdown",
      "metadata": {
        "id": "VvOy9TScrrca"
      },
      "source": [
        "### Operación de Diferencia"
      ]
    },
    {
      "cell_type": "code",
      "execution_count": null,
      "metadata": {
        "colab": {
          "base_uri": "https://localhost:8080/"
        },
        "id": "jK10CFb_ruc2",
        "outputId": "0f0a97a9-bcc8-4407-8f66-d332bd54726c"
      },
      "outputs": [
        {
          "name": "stdout",
          "output_type": "stream",
          "text": [
            "{1, 2}\n",
            "{4, 5}\n"
          ]
        }
      ],
      "source": [
        "differenceAB = a.difference(b)\n",
        "differenceBA = b.difference(a)\n",
        "\n",
        "print(differenceAB) # {1, 2}\n",
        "print(differenceBA) # {4, 5}"
      ]
    },
    {
      "cell_type": "markdown",
      "metadata": {
        "id": "wPAUA6rly8DA"
      },
      "source": [
        "# Teorema de Bayes\n",
        "\n",
        "$$P(B|A) = P(A|B)*\\frac{P(B)}{P(A)}$$\n"
      ]
    },
    {
      "cell_type": "markdown",
      "metadata": {
        "id": "QbNUlWn_0Rdq"
      },
      "source": [
        "## Matriz de Confusión"
      ]
    },
    {
      "cell_type": "markdown",
      "metadata": {
        "id": "IcFxieqDzMny"
      },
      "source": [
        "\n",
        "![Captura de pantalla 2023-08-30 221519.png](data:image/png;base64,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)"
      ]
    },
    {
      "cell_type": "markdown",
      "metadata": {
        "id": "NtXBvAta0YBA"
      },
      "source": [
        "# Ejemplificando el Teorema de Bayes con diagnositcos médicos.\n",
        "## ¿Qué tan probable es que realmente tengamos la enfermedad?.\n",
        "\n",
        "En una población de 1000 individuos, supongamos que el 1% sufre COVID, y el resto está bien. Escogiendo un individuo al azar:\n",
        "$$P(enfermo) = 0.01$$\n",
        "$$P(sano) = 0.99$$\n",
        "\n",
        "Supongamos que aplicando una prueba a una persona que no tiene COVID, hay una posibilidad del 1% de conseguir un falso positivo, esto es:\n",
        "$$P(+|sano) = 0.01$$\n",
        "$$P(-|sano) = 0.99$$\n",
        "\n",
        "Supongamos que aplicando la prueba a una persona que tiene COVID, hay una posibilidad del 1% de un falso negativo, esto es:\n",
        "$$P(-|enfermo) = 0.01$$\n",
        "$$P(+|enfermo) = 0.99$$\n",
        "\n",
        "La fracción de individuos en el grupo que están sanos y dan negativo (Bayes):\n",
        "$$P(sano\\cap -) = P(sano)*P(-|sano) = 0.99*0.99 = 0.9801$$\n",
        "\n",
        "La fracción de individuos en el grupo que están enfermos y dan positivo:\n",
        "$$P(enfermo\\cap +) = P(enfermo)*P(+|enfermo) = 0.01*0.99 = 0.0099$$\n",
        "\n",
        "La fracción de individuos en el grupo que dan falso positivo:\n",
        "$$P(sano\\cap +) = P(sano)*P(+|sano) = 0.01*0.99 = 0.0099$$\n",
        "\n",
        "La fracción de individuos en el grupo que dan falso negativo:\n",
        "$$P(enfermo\\cap -) = P(enfermo)*P(-|enfermo) = 0.01*0.01 = 0.0001$$"
      ]
    },
    {
      "cell_type": "markdown",
      "metadata": {
        "id": "qHaZcmyI_kk2"
      },
      "source": [
        "### Mas Ejemplos de bayes\n",
        "Hay 2 tarros de galletas:\n",
        "\n",
        "\n",
        "*   El tarro 1 tiene 30 galletas de vainilla y 10 de chocolate\n",
        "*   El tarro 2 tiene 20 galletas de vainilla y 20 de chocolate\n",
        "\n",
        "Eliges al azar una galleta de un tarro elegido al azar. Es de vainilla.\n",
        "\n",
        "* ¿Cuál es la probabilidad de que sea del tarro 1?\n",
        "\n"
      ]
    },
    {
      "cell_type": "code",
      "execution_count": null,
      "metadata": {
        "colab": {
          "base_uri": "https://localhost:8080/"
        },
        "id": "ULYNbpZT_2Ki",
        "outputId": "4f2f46c4-707b-43a2-cc46-7c590156f30a"
      },
      "outputs": [
        {
          "name": "stdout",
          "output_type": "stream",
          "text": [
            "P(Tarro 1 | Vainilla) = 0.6\n"
          ]
        }
      ],
      "source": [
        "\"\"\"\n",
        "buscamos P(Tarro 1 | Vainilla).\n",
        "\"\"\"\n",
        "# Probabilidad de elegir entre el tarro 1 y el 2: a priori\n",
        "p_Tarro1 = 1/2\n",
        "\n",
        "# Vainilla / total de galletas: Likelihood\n",
        "\n",
        "probabilidad_vanilla_dado_Tarro1 = 30/(30+10)\n",
        "\n",
        "# total galletas de vainilla / total de galletas = evidencia\n",
        "p_vanilla = (30+20) / (30+10 + 20+20)\n",
        "\n",
        "# Bayes\n",
        "probabilidad_Tarro1_dado_probabilidad_galleta_vanilla = (p_Tarro1 * probabilidad_vanilla_dado_Tarro1 ) / p_vanilla\n",
        "\n",
        "print('P(Tarro 1 | Vainilla) = {}'.format(probabilidad_Tarro1_dado_probabilidad_galleta_vanilla))\n",
        "\n"
      ]
    }
  ],
  "metadata": {
    "colab": {
      "provenance": []
    },
    "kernelspec": {
      "display_name": "Python 3",
      "name": "python3"
    },
    "language_info": {
      "codemirror_mode": {
        "name": "ipython",
        "version": 3
      },
      "file_extension": ".py",
      "mimetype": "text/x-python",
      "name": "python",
      "nbconvert_exporter": "python",
      "pygments_lexer": "ipython3",
      "version": "3.9.7"
    }
  },
  "nbformat": 4,
  "nbformat_minor": 0
}