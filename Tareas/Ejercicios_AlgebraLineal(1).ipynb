{
  "nbformat": 4,
  "nbformat_minor": 0,
  "metadata": {
    "colab": {
      "provenance": []
    },
    "kernelspec": {
      "name": "python3",
      "display_name": "Python 3"
    },
    "language_info": {
      "name": "python"
    }
  },
  "cells": [
    {
      "cell_type": "markdown",
      "source": [
        "## Equipo: Los patrones\n",
        "  - Luis Mario Escobar Rosales 420003818\n",
        "  - Samantha Mora Abonce  317010945\n",
        "  - Angel Castro Reyes 317251625\n",
        "  - Gabriela Cruz Blanco 317032268"
      ],
      "metadata": {
        "id": "iLT47mnmK784"
      }
    },
    {
      "cell_type": "code",
      "source": [
        "import numpy as np\n",
        "from numpy import array\n",
        "from scipy import linalg as la"
      ],
      "metadata": {
        "id": "Smt1_k7-x1ZY"
      },
      "execution_count": null,
      "outputs": []
    },
    {
      "cell_type": "markdown",
      "source": [
        "## Ejercicios"
      ],
      "metadata": {
        "id": "xYgxSy3KvMeb"
      }
    },
    {
      "cell_type": "markdown",
      "source": [
        "### Ejercicio 1\n",
        "\n"
      ],
      "metadata": {
        "id": "gai50KgyvRcX"
      }
    },
    {
      "cell_type": "code",
      "source": [
        "# Definición de una \"transformación\" T\n",
        "\n",
        "def transformacion_t(v_vector: array):\n",
        "  return np.array([v_vector[0][0] + 3*v_vector[1][0], v_vector[0][0] + 2*v_vector[1][0]])\n",
        "\n",
        "v_vector = np.array([[4],[7]])\n",
        "print (transformacion_t(v_vector))"
      ],
      "metadata": {
        "colab": {
          "base_uri": "https://localhost:8080/"
        },
        "id": "7b2gDOuoveRl",
        "outputId": "67bd3bdb-21a8-475e-ea1e-30b6b89d3b63"
      },
      "execution_count": null,
      "outputs": [
        {
          "output_type": "stream",
          "name": "stdout",
          "text": [
            "[25 18]\n"
          ]
        }
      ]
    },
    {
      "cell_type": "markdown",
      "source": [
        "Tomando la definición de la transformación $T$ mostrada en la celda anterior, realice lo siguiente:\n",
        "1. ¿A qué transformación corresponde la función mostrada?, por ejemplo: \\\n",
        "La transformación $V$ esta representada como $V:  \\mathbb{R}^{2} → \\mathbb{R}^{3}$ donde\n",
        "$V \\begin{bmatrix}\n",
        "x\\\\\n",
        "y\n",
        "\\end{bmatrix} = \\begin{bmatrix}\n",
        "x + y\\\\\n",
        "y \\\\\n",
        "2x\n",
        "\\end{bmatrix}$\n",
        "\n",
        "Una forma de representar a $T: \\mathbb{R}^2 \\rightarrow  \\mathbb{R}^2$ (como en el código no hay limitaciones asumimos que está en los reales), donde \\\n",
        "\n",
        "$$T \\begin{bmatrix}\n",
        "x\\\\\n",
        "y\n",
        "\\end{bmatrix} = \\begin{bmatrix}\n",
        "x + 3y\\\\\n",
        "x + 2y\n",
        "\\end{bmatrix}$$\n",
        "\n",
        "2. Demuestre que $T$ es una transformación lineal\n",
        "\n",
        "Para demostrar que esto es cierto queremos ver que abre sumas y saca escalares. Sean $U$, $V$ matrices con entradas en los reales,  y sea $\\lambda$ un escalar en $\\mathbb{R}$.  Empecemos por demostrar que abre sumas, es decir que $T(U+V) = T(U) + T(V)$. Tenemos lo siguiente:\n",
        "$$\\begin{align*}\n",
        "T(u_1, u_2) &=  (u_1 + 3u_2, u_1+2u_2)\\\\\n",
        "T(v_1, v_2) &=  (v_1 + 3v_2, v_1+2v_2)\\\\\n",
        "\\end{align*}$$\n",
        "\n",
        "Entonces $T(U)+ T(V) = (u_1 + 3u_2+ v_1 + 3v_2,  u_1+2u_2 + v_1+2v_2)$, sabemos que nuestras entradas son reales, así que la multiplicación se distribuye respecto a la suma, así que nos queda:\n",
        "\n",
        "$$T(U)+ T(V) = (u_1 + v_1+ 3(u_2 + v_2),  u_1+v_1+2(u_2 + v_2))$$\n",
        "\n",
        "Por otra parte:\n",
        "$$\\begin{align*}\n",
        "U + V &= (u_1+v_1, u_2 + v_2)\\\\\n",
        "T(U+V) &= (u_1+v_1 + 3(u_2+v_2), u_1+v_1 + 2(u_2+v_2))\\\\\n",
        "T(U+V) &= T(U) + T(V)\n",
        "\\end{align*}$$\n",
        "\n",
        "\\\n",
        "Y para ver que saca escalares tenemos lo siguiente:\n",
        "$$\\lambda T(u_1, u_2) = \\lambda (u_1 + 3u_2, u_1+2u_2) = ( \\lambda (u_1 + 3u_2), \\lambda (u_1+2u_2))$$  \n",
        "Por otro lado, $$T(\\lambda U) = T(\\lambda u_1, \\lambda u_2) = (\\lambda u_1+ 3(\\lambda u_2), \\lambda u_1 + 2(\\lambda u_2))$$\n",
        "\n",
        "Tanto $\\lambda$ como $u_1, u_2$ son reales, así que se cumple la asociatividad de la suma, lo que nos deja $T(\\lambda U) = T(\\lambda u_1 + 2\\lambda u_2, \\lambda u_1 + 3\\lambda u_2)$, y por lo mismo también podemos usar la distributividad, así que $T(\\lambda U) = T(\\lambda (u_1 + 2u_2), \\lambda (u_1 + 3 u_2))$,  que es precisamente $\\lambda T(u_1, u_2)$.\n"
      ],
      "metadata": {
        "id": "-XjoFO7Hv60n"
      }
    },
    {
      "cell_type": "markdown",
      "source": [
        "### Ejercicio 2\n"
      ],
      "metadata": {
        "id": "xbUs7x8Iv_pX"
      }
    },
    {
      "cell_type": "markdown",
      "source": [
        "Sea T una transformación, donde T está descrita de la siguiente forma: \\\n",
        "$T:  \\mathbb{R}^{2} → \\mathbb{R}^{3}$ donde\n",
        "$T \\begin{bmatrix}\n",
        "x\\\\\n",
        "y\n",
        "\\end{bmatrix} = \\begin{bmatrix}\n",
        "x\\\\\n",
        "y \\\\\n",
        "2x + 3y\n",
        "\\end{bmatrix}$ \\\n",
        "Realice lo siguiente:\n",
        "1. La transformación T ¿Es lineal?\n",
        "2. Defina una función en Python que represente la transformación T y evalue los vectores $v_1$ y $v_2$"
      ],
      "metadata": {
        "id": "PcxDXRRPwC43"
      }
    },
    {
      "cell_type": "code",
      "source": [
        "v1 = np.array([[1],[3]])\n",
        "v2 = np.array([[10],[1]])\n",
        "# Escriba su codigo aqui\n",
        "def transformacion_2(v_vector: array):\n",
        "  return np.array([v_vector[0][0] , v_vector[1][0], 2*v_vector[0][0] + 3*v_vector[1][0]])\n",
        "\n",
        "print(transformacion_2(v1), transformacion_2(v2))"
      ],
      "metadata": {
        "id": "vacHJ0YTwIbN",
        "colab": {
          "base_uri": "https://localhost:8080/"
        },
        "outputId": "cea572de-3380-439b-921f-96ed07d03aaf"
      },
      "execution_count": null,
      "outputs": [
        {
          "output_type": "stream",
          "name": "stdout",
          "text": [
            "[ 1  3 11] [10  1 23]\n"
          ]
        }
      ]
    },
    {
      "cell_type": "markdown",
      "source": [
        "### Ejercicio 3\n"
      ],
      "metadata": {
        "id": "GVe2Yx4WwuJm"
      }
    },
    {
      "cell_type": "markdown",
      "source": [
        "Determina los valores propios y vectores propios de la matriz $A$.\\\n",
        "$A = \\begin{bmatrix}\n",
        "2 & 1 & 1\\\\\n",
        "2 & 3 & 2\\\\\n",
        "3 & 3 & 4\n",
        "\\end{bmatrix}$"
      ],
      "metadata": {
        "id": "ZYtzBrKKw0qF"
      }
    },
    {
      "cell_type": "code",
      "source": [
        "# Escriba su codigo aqui\n",
        "# Definir la matriz A\n",
        "A = np.array([[2, 1, 1],\n",
        "           [2, 3, 2],\n",
        "           [3, 3, 4]])\n",
        "\n",
        "# Función para calcular valores y vectores propios usando scipy\n",
        "def valores_vectores_propios_scipy(matriz: array):\n",
        "    valores_propios, vectores_propios = la.eig(matriz)\n",
        "    return valores_propios, vectores_propios\n",
        "\n",
        "# Calcular y mostrar los valores y vectores propios de A usando scipy\n",
        "valores_propios, vectores_propios = valores_vectores_propios_scipy(A)\n",
        "print(\"Valores propios:\", valores_propios)\n",
        "print(\"Vectores propios:\", vectores_propios)"
      ],
      "metadata": {
        "id": "LBv1M59w4vQM",
        "colab": {
          "base_uri": "https://localhost:8080/"
        },
        "outputId": "0a4045c5-86f2-4446-9381-dd27a5825ea1"
      },
      "execution_count": null,
      "outputs": [
        {
          "output_type": "stream",
          "name": "stdout",
          "text": [
            "Valores propios: [1.+0.j 7.+0.j 1.+0.j]\n",
            "Vectores propios: [[-0.81110711  0.26726124  0.09365858]\n",
            " [ 0.32444284  0.53452248 -0.74926865]\n",
            " [ 0.48666426  0.80178373  0.65561007]]\n"
          ]
        }
      ]
    },
    {
      "cell_type": "markdown",
      "source": [
        "Ahora, solamente utilizando Scipy y Numpy, obtenga el polinomio caracteristico de la matriz A"
      ],
      "metadata": {
        "id": "xFtmANqW4yiN"
      }
    },
    {
      "cell_type": "code",
      "source": [
        "\n",
        "import numpy as np\n",
        "from numpy.polynomial import polynomial as poly\n",
        "\n",
        "# Definir la matriz A\n",
        "A = np.array([[2, 1, 1], [2, 3, 2], [3, 3, 4]])\n",
        "\n",
        "# Calcular el polinomio característico\n",
        "eigenvalues, _ = np.linalg.eig(A)\n",
        "coeffs = poly.polyval(eigenvalues, [1,0,0,0])\n",
        "coeffs = coeffs.tolist()\n",
        "#print(coeffs)\n",
        "coeffs = [int(c.real) for c in coeffs]\n",
        "\n",
        "# Mostrar el polinomio característico\n",
        "print(\"Polinomio característico de la matriz A:\")\n",
        "print(coeffs)"
      ],
      "metadata": {
        "id": "V6ar7r_Y5mq1",
        "colab": {
          "base_uri": "https://localhost:8080/"
        },
        "outputId": "6c478a4d-8b3b-46aa-f8ae-a0dfbbedcb0a"
      },
      "execution_count": null,
      "outputs": [
        {
          "output_type": "stream",
          "name": "stdout",
          "text": [
            "Polinomio característico de la matriz A:\n",
            "[1, 1, 1]\n"
          ]
        }
      ]
    },
    {
      "cell_type": "markdown",
      "source": [
        "### Ejercicio 4\n"
      ],
      "metadata": {
        "id": "7glbpv9HBzlk"
      }
    },
    {
      "cell_type": "markdown",
      "source": [
        "Determine el polinomio característico de la matriz $B$ utilizando Python y haciendo las cuentas correspondientes.\n",
        "\n",
        "\n",
        "$B = \\begin{bmatrix}\n",
        "1 & -1\\\\\n",
        "2 & 4\n",
        "\\end{bmatrix}$"
      ],
      "metadata": {
        "id": "JfiNspyjB2Rm"
      }
    },
    {
      "cell_type": "code",
      "source": [
        "# Escriba su codigo aqui\n",
        "#Ahora determinamos el polinomio caracteristico a mano\n",
        "\n",
        "from sympy import Matrix, symbols\n",
        "\n",
        "# Definir la matriz B\n",
        "B = np.array([[1, -1], [2, 4]])\n",
        "#B = np.array([[2, 1, 1], [2, 3, 2], [3, 3, 4]])\n",
        "\n",
        "# Tamaño de la matriz B\n",
        "n = B.shape[0]\n",
        "\n",
        "# Definir el símbolo lambda como una variable \"simbólica\"\n",
        "lambda_ = symbols('lambda')\n",
        "\n",
        "# Construimos la matriz A - lambda*I\n",
        "A_menos_lambda_I = Matrix(B - lambda_ * np.eye(n))\n",
        "\n",
        "\n",
        "\n",
        "# Calculamos el determinante(A - lambda*I)\n",
        "det_A_menos_lambda_I = A_menos_lambda_I.det()\n",
        "\n",
        "# Expandimos el determinante para obtener el polinomio característico\n",
        "polinomio_caracteristico = det_A_menos_lambda_I.expand()\n",
        "\n",
        "#print(polinomio_caracteristico )\n",
        "\n",
        "# Obtenemos los coeficientes del polinomio característico\n",
        "coeffs_B = [int(polinomio_caracteristico .coeff(lambda_, i)) for i in range(n, -1, -1)]\n",
        "\n",
        "# Mostrar el polinomio característico\n",
        "print(\"Polinomio característico de la matriz B:\\n\")\n",
        "#print(coeffs_B)\n",
        "s = \"\"\n",
        "i = n\n",
        "for c in coeffs_B :\n",
        "  if c >= 0  and i != n:\n",
        "    s+= \" + \"\n",
        "\n",
        "  s += str(c)+\"\\u03BB\"+ \"^\" + str(i) + \" \" if i > 0 else str(c)\n",
        "  i-=1\n",
        "print(s)\n"
      ],
      "metadata": {
        "id": "SSj5SqDjC1XJ",
        "colab": {
          "base_uri": "https://localhost:8080/"
        },
        "outputId": "fab75435-fd3d-46f0-e119-361d1b6172b2"
      },
      "execution_count": null,
      "outputs": [
        {
          "output_type": "stream",
          "name": "stdout",
          "text": [
            "Polinomio característico de la matriz B:\n",
            "\n",
            "1λ^2 -5λ^1  + 6\n"
          ]
        }
      ]
    },
    {
      "cell_type": "markdown",
      "source": [
        "Determine los valores característicos de la matriz $B$ utilizando Python y haciendo las cuentas correspondientes.\n"
      ],
      "metadata": {
        "id": "ldzXWreAC7lB"
      }
    },
    {
      "cell_type": "code",
      "source": [
        "# Escriba su codigo aqui\n",
        "\n",
        "# Debemos encontrar las raíces (valores característicos) del polinomio\n",
        "#print(np.roots(coeffs_B))\n",
        "valores_caracteristicos = [round(c) for c in np.roots(coeffs_B)]\n",
        "#valores_caracteristicos = [int( c.real ) for i in np.roots(coeffs_B) ]\n",
        "\n",
        "print(\"Los valores característicos son:\")\n",
        "for valor in valores_caracteristicos:\n",
        "    print(valor)"
      ],
      "metadata": {
        "id": "Ig57PXuHDGJe",
        "colab": {
          "base_uri": "https://localhost:8080/"
        },
        "outputId": "72daa076-c1ae-4612-fd90-7e44926488fd"
      },
      "execution_count": null,
      "outputs": [
        {
          "output_type": "stream",
          "name": "stdout",
          "text": [
            "[3. 2.]\n",
            "Los valores característicos son:\n",
            "3\n",
            "2\n"
          ]
        }
      ]
    }
  ]
}