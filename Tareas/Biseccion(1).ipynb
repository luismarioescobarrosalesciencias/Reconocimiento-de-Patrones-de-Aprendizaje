{
  "nbformat": 4,
  "nbformat_minor": 0,
  "metadata": {
    "colab": {
      "provenance": []
    },
    "kernelspec": {
      "name": "python3",
      "display_name": "Python 3"
    },
    "language_info": {
      "name": "python"
    }
  },
  "cells": [
    {
      "cell_type": "markdown",
      "source": [
        "## Equipo: Los patrones\n",
        "  - Luis Mario Escobar Rosales 420003818\n",
        "  - Samantha Mora Abonce  317010945\n",
        "  - Angel Castro Reyes 317251625\n",
        "  - Gabriela Cruz Blanco 317032268"
      ],
      "metadata": {
        "id": "GJukIHta4xEX"
      }
    },
    {
      "cell_type": "markdown",
      "source": [
        "## Método de la Bisección\n",
        "\n",
        "Implementar en Python el método de la bisección para encontrar el cero de la función $f(x) = x^{3} − x − 1$ en el intervalo $[1, 2]$. Utilicen una precisión de $1 × 10^{−6}$ y un máximo\n",
        "de 50 iteraciones."
      ],
      "metadata": {
        "id": "ChwasL6U43cV"
      }
    },
    {
      "cell_type": "code",
      "source": [
        "import numpy as np\n",
        "import pandas as pd\n",
        "import matplotlib.pyplot as plt\n",
        "from typing import Callable, Union #Meramente para dar mas legibilidad a los parametros de las funciones"
      ],
      "metadata": {
        "id": "0RAzXE7S6YUf"
      },
      "execution_count": null,
      "outputs": []
    },
    {
      "cell_type": "code",
      "execution_count": null,
      "metadata": {
        "id": "d44WayFI4v5I"
      },
      "outputs": [],
      "source": [
        "# Definimos el polinomio como una función convencional\n",
        "POLINOMIO = lambda x: x**3 - x - 1\n",
        "\n",
        "'''Función que toma una función como argumento y la evalúa en un punto dado, el proposito de este metodo es tener mas libertad para pasar otras funciones\n",
        "que quiza no puedan ser modeladas con lambdas'''\n",
        "def evaluar_funcion(funcion: Callable[[Union[int, float]], Union[int, float]] , punto: Union[int, float]) -> Union[int, float]:\n",
        "    return funcion(punto)\n",
        "\n",
        "\n",
        "#Funcion que calcula el punto medio del intervalo\n",
        "\n",
        "def punto_medio(a:float,b:float)->float:\n",
        "  return (a+b)/2\n"
      ]
    },
    {
      "cell_type": "code",
      "source": [
        "def biseccion(a:float,b:float,precision:float,iteraciones_maximas:int,polinomio:Callable[[Union[int, float]], Union[int, float]])->list:\n",
        "\n",
        "  res= []\n",
        "\n",
        "  if evaluar_funcion(polinomio,a) * evaluar_funcion(polinomio,b) > 0:\n",
        "        raise ValueError('No existe raíz en el intervalo dado')\n",
        "\n",
        "  #print(\"Hola\")\n",
        "  fila = 0\n",
        "  raiz  = False\n",
        "\n",
        "  while iteraciones_maximas :\n",
        "    #print(\"Iteracion: \", iteraciones_maximas)\n",
        "\n",
        "    fa = evaluar_funcion(polinomio,a)\n",
        "    fb = evaluar_funcion(polinomio,b)\n",
        "\n",
        "    punto_Medio_C =  punto_medio(a,b)\n",
        "\n",
        "\n",
        "    fc = evaluar_funcion(polinomio,punto_Medio_C)\n",
        "    #print(fc)\n",
        "\n",
        "\n",
        "    if np.abs(fc) < precision:\n",
        "\n",
        "      res.append({'a': a, 'b': b, 'c': punto_Medio_C, 'f(a)': fa, 'f(b)': fb, 'f(c)': fc, 'raiz': \"VERDADERO\"})\n",
        "      return   punto_Medio_C,pd.DataFrame(res)\n",
        "\n",
        "    if fa * fc < 0:\n",
        "          #print(\"Probando\")\n",
        "          b = punto_Medio_C\n",
        "    else:\n",
        "          #print(\"Probando2\")\n",
        "          a = punto_Medio_C\n",
        "    res.append({'a': a, 'b': b, 'c': punto_Medio_C, 'f(a)': fa, 'f(b)': fb, 'f(c)': fc, 'raiz': \"FALSO\"})\n",
        "\n",
        "    iteraciones_maximas-=1\n",
        "\n",
        "  return None,pd.DataFrame(res)"
      ],
      "metadata": {
        "id": "vVT2b6iU9eWN"
      },
      "execution_count": null,
      "outputs": []
    },
    {
      "cell_type": "code",
      "source": [
        "precision = 1e-6\n",
        "r,d = biseccion(1,2,precision,50,POLINOMIO)\n",
        "pd.options.display.float_format = '{:.7f}'.format #Ajustamos los decimales para que se visualicen mejor los datos\n",
        "print(\"Resultado: \",r,\"\\n\")\n",
        "print(\"Tabla de ejecuciones\")\n",
        "print(d)"
      ],
      "metadata": {
        "colab": {
          "base_uri": "https://localhost:8080/"
        },
        "id": "ae0Ku0QHGMA1",
        "outputId": "5f3e9ca0-29bb-4988-f0b0-74db25020581"
      },
      "execution_count": null,
      "outputs": [
        {
          "output_type": "stream",
          "name": "stdout",
          "text": [
            "Resultado:  1.3247179985046387 \n",
            "\n",
            "Tabla de ejecuciones\n",
            "           a         b         c       f(a)      f(b)       f(c)       raiz\n",
            "0  1.0000000 1.5000000 1.5000000 -1.0000000 5.0000000  0.8750000      FALSO\n",
            "1  1.2500000 1.5000000 1.2500000 -1.0000000 0.8750000 -0.2968750      FALSO\n",
            "2  1.2500000 1.3750000 1.3750000 -0.2968750 0.8750000  0.2246094      FALSO\n",
            "3  1.3125000 1.3750000 1.3125000 -0.2968750 0.2246094 -0.0515137      FALSO\n",
            "4  1.3125000 1.3437500 1.3437500 -0.0515137 0.2246094  0.0826111      FALSO\n",
            "5  1.3125000 1.3281250 1.3281250 -0.0515137 0.0826111  0.0145760      FALSO\n",
            "6  1.3203125 1.3281250 1.3203125 -0.0515137 0.0145760 -0.0187106      FALSO\n",
            "7  1.3242188 1.3281250 1.3242188 -0.0187106 0.0145760 -0.0021279      FALSO\n",
            "8  1.3242188 1.3261719 1.3261719 -0.0021279 0.0145760  0.0062088      FALSO\n",
            "9  1.3242188 1.3251953 1.3251953 -0.0021279 0.0062088  0.0020367      FALSO\n",
            "10 1.3247070 1.3251953 1.3247070 -0.0021279 0.0020367 -0.0000466      FALSO\n",
            "11 1.3247070 1.3249512 1.3249512 -0.0000466 0.0020367  0.0009948      FALSO\n",
            "12 1.3247070 1.3248291 1.3248291 -0.0000466 0.0009948  0.0004740      FALSO\n",
            "13 1.3247070 1.3247681 1.3247681 -0.0000466 0.0004740  0.0002137      FALSO\n",
            "14 1.3247070 1.3247375 1.3247375 -0.0000466 0.0002137  0.0000836      FALSO\n",
            "15 1.3247070 1.3247223 1.3247223 -0.0000466 0.0000836  0.0000185      FALSO\n",
            "16 1.3247147 1.3247223 1.3247147 -0.0000466 0.0000185 -0.0000141      FALSO\n",
            "17 1.3247147 1.3247185 1.3247185 -0.0000141 0.0000185  0.0000022      FALSO\n",
            "18 1.3247166 1.3247185 1.3247166 -0.0000141 0.0000022 -0.0000059      FALSO\n",
            "19 1.3247175 1.3247185 1.3247175 -0.0000059 0.0000022 -0.0000019      FALSO\n",
            "20 1.3247175 1.3247185 1.3247180 -0.0000019 0.0000022  0.0000002  VERDADERO\n"
          ]
        }
      ]
    },
    {
      "cell_type": "code",
      "source": [
        "_,df_resultados = biseccion(1,2,precision,50,POLINOMIO)\n",
        "\n",
        "# Graficar f(c) con respecto a las iteraciones\n",
        "plt.plot(range(1, len(df_resultados)+1), df_resultados['f(c)'], marker='o', linestyle='-')\n",
        "plt.xlabel('Iteraciones')\n",
        "plt.ylabel('f(c)')\n",
        "plt.title('Valor de f(c) en cada iteración')\n",
        "plt.grid(True)\n",
        "plt.show()"
      ],
      "metadata": {
        "colab": {
          "base_uri": "https://localhost:8080/",
          "height": 472
        },
        "id": "F9zktcH9eP6B",
        "outputId": "5c32c179-e154-4e59-d685-396a3ccb85ab"
      },
      "execution_count": null,
      "outputs": [
        {
          "output_type": "display_data",
          "data": {
            "text/plain": [
              "<Figure size 640x480 with 1 Axes>"
            ],
            "image/png": "[encoded data removed]"
          },
          "metadata": {}
        }
      ]
    },
    {
      "cell_type": "code",
      "source": [
        "#Extra : Metodo Recursivo\n",
        "def biseccion_recursivo(polinomio:Callable[[Union[int, float]], Union[int, float]], a: Union[int, float], b: Union[int, float], tol:float)->float:\n",
        "\n",
        "    if evaluar_funcion(polinomio,a) * evaluar_funcion(polinomio,b) > 0:\n",
        "        raise ValueError('No existe raíz en el intervalo dado')\n",
        "\n",
        "    punto_medio = (a + b)/2\n",
        "\n",
        "    if np.abs(polinomio(punto_medio)) < tol:\n",
        "\n",
        "        return punto_medio\n",
        "\n",
        "    elif polinomio(a) * polinomio(punto_medio) < 0:\n",
        "        return biseccion_recursivo(polinomio, a, punto_medio, tol)\n",
        "\n",
        "    else:\n",
        "        return biseccion_recursivo(polinomio, punto_medio, b, tol)\n",
        "\n",
        "\n",
        "precision = 1e-6\n",
        "m = biseccion_recursivo(POLINOMIO,1,2,precision)\n",
        "print(\"Resultado metodo iterativo: \",m)"
      ],
      "metadata": {
        "colab": {
          "base_uri": "https://localhost:8080/"
        },
        "id": "eHgr8mkQM_tz",
        "outputId": "1edc14e7-0843-409f-d71d-01ef668aa5a2"
      },
      "execution_count": null,
      "outputs": [
        {
          "output_type": "stream",
          "name": "stdout",
          "text": [
            "Resultado metodo iterativo:  1.3247179985046387\n"
          ]
        }
      ]
    }
  ]
}